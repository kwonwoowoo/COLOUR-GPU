{
  "nbformat": 4,
  "nbformat_minor": 0,
  "metadata": {
    "colab": {
      "name": "Colourisatinon_AI_wldo",
      "provenance": []
    },
    "kernelspec": {
      "name": "python3",
      "display_name": "Python 3"
    },
    "accelerator": "GPU"
  },
  "cells": [
    {
      "cell_type": "markdown",
      "metadata": {
        "id": "V44Sr3h-CLTb",
        "colab_type": "text"
      },
      "source": [
        "\n",
        "\n",
        "---\n",
        "\n",
        "\n",
        "#◢ Verify Correct Runtime Settings\n",
        "\n",
        "**<font color='#FF000'> IMPORTANT </font>**\n",
        "\n",
        "In the \"Runtime\" menu for the notebook window, select \"Change runtime type.\" Ensure that the following are selected:\n",
        "* Runtime Type = Python 3\n",
        "* Hardware Accelerator = GPU \n"
      ]
    },
    {
      "cell_type": "code",
      "metadata": {
        "id": "Iaa1vTsdCOCX",
        "colab_type": "code",
        "colab": {}
      },
      "source": [
        "import torch\n",
        "\n",
        "if not torch.cuda.is_available():\n",
        "    print('GPU not available.')"
      ],
      "execution_count": 0,
      "outputs": []
    },
    {
      "cell_type": "code",
      "metadata": {
        "id": "17yya_EECQ6a",
        "colab_type": "code",
        "colab": {}
      },
      "source": [
        "!git clone https://github.com/jantic/DeOldify.git DeOldify "
      ],
      "execution_count": 0,
      "outputs": []
    },
    {
      "cell_type": "code",
      "metadata": {
        "id": "kXsArBX2CTjU",
        "colab_type": "code",
        "colab": {}
      },
      "source": [
        "cd DeOldify"
      ],
      "execution_count": 0,
      "outputs": []
    },
    {
      "cell_type": "code",
      "metadata": {
        "id": "qB_F7MaKCVse",
        "colab_type": "code",
        "colab": {}
      },
      "source": [
        "!pip install -r requirements.txt"
      ],
      "execution_count": 0,
      "outputs": []
    },
    {
      "cell_type": "code",
      "metadata": {
        "id": "6k6aFmfdCYgC",
        "colab_type": "code",
        "colab": {}
      },
      "source": [
        "import fastai\n",
        "from deoldify.visualize import *\n",
        "\n",
        "torch.backends.cudnn.benchmark = True"
      ],
      "execution_count": 0,
      "outputs": []
    },
    {
      "cell_type": "code",
      "metadata": {
        "id": "HKoUNoNPCa-L",
        "colab_type": "code",
        "colab": {}
      },
      "source": [
        "!mkdir 'models'\n",
        "!wget https://www.dropbox.com/s/zkehq1uwahhbc2o/ColorizeArtistic_gen.pth?dl=0 -O ./models/ColorizeArtistic_gen.pth"
      ],
      "execution_count": 0,
      "outputs": []
    },
    {
      "cell_type": "code",
      "metadata": {
        "id": "YEpd6RdsCdA2",
        "colab_type": "code",
        "colab": {}
      },
      "source": [
        "colorizer = get_image_colorizer(artistic=True)"
      ],
      "execution_count": 0,
      "outputs": []
    },
    {
      "cell_type": "markdown",
      "metadata": {
        "id": "red_VGaKCfK7",
        "colab_type": "text"
      },
      "source": [
        "### render_factor\n",
        "The default value of 35 has been carefully chosen and should work -ok- for most scenarios (but probably won't be the -best-). This determines resolution at which the color portion of the image is rendered. Lower resolution will render faster, and colors also tend to look more vibrant. Older and lower quality images in particular will generally benefit by lowering the render factor. Higher render factors are often better for higher quality images, but the colors may get slightly washed out. \n",
        "## Pro Tips\n",
        "\n",
        "You can evaluate how well the image is rendered at each render_factor by using the code at the bottom (that cell under \"See how well render_factor values perform on a frame here\"). "
      ]
    },
    {
      "cell_type": "code",
      "metadata": {
        "id": "i-D4Vl2FCkw1",
        "colab_type": "code",
        "cellView": "both",
        "colab": {}
      },
      "source": [
        "source_url = '#' #@param {type:\"string\"}\n",
        "render_factor = 35 #@param {type:\"slider\", min:7, max:60, step:1}\n",
        "\n",
        "if source_url is not None and source_url !='':\n",
        "    image_path = colorizer.plot_transformed_image_from_url(url=source_url, render_factor=render_factor, compare=True)\n",
        "    show_image_in_notebook(image_path)\n",
        "else:\n",
        "    print('Provide an image url and try again.')"
      ],
      "execution_count": 0,
      "outputs": []
    },
    {
      "cell_type": "markdown",
      "metadata": {
        "id": "b2K_bwTuCpqH",
        "colab_type": "text"
      },
      "source": [
        "## See how well render_factor values perform on the image here"
      ]
    },
    {
      "cell_type": "code",
      "metadata": {
        "id": "-g6hhkWICsWu",
        "colab_type": "code",
        "colab": {}
      },
      "source": [
        "for i in range(10,46,2):\n",
        "    colorizer.plot_transformed_image('test_images/image.png', render_factor=i, display_render_factor=True, figsize=(18,18))\n",
        "        image_path = colorizer.plot_transformed_image_from_url(url=source_url, render_factor=render_factor, compare=True)\n",
        "    show_image_in_notebook(image_path)"
      ],
      "execution_count": 0,
      "outputs": []
    }
  ]
}